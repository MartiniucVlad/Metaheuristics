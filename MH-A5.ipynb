{
 "cells": [
  {
   "cell_type": "code",
   "id": "initial_id",
   "metadata": {
    "collapsed": true,
    "ExecuteTime": {
     "end_time": "2025-03-28T07:19:57.786578Z",
     "start_time": "2025-03-28T07:19:57.772151Z"
    }
   },
   "source": [
    "import math\n",
    "import random\n",
    "from heapq import merge\n",
    "\n",
    "import plotly.graph_objects as go\n",
    "\n",
    "def load_data(file_name: str) -> tuple[list[tuple[int, int]], int]:\n",
    "    \"\"\"\n",
    "    Loads knapsack data from a file.\n",
    "\n",
    "    Parameters:\n",
    "    - file_name (str): The file containing item weights and values.\n",
    "\n",
    "    Returns:\n",
    "    - tuple: A list of (weight, value) pairs and the maximum weight.\n",
    "    \"\"\"\n",
    "    weights_and_values = []\n",
    "    with open(file_name) as f:\n",
    "        lines = f.readlines()\n",
    "        for line in lines[1:-1]:  # Ignore first and last line\n",
    "            parts = line.split()\n",
    "            weights_and_values.append((int(parts[2]), int(parts[1])))  # (weight, value)\n",
    "\n",
    "        max_weight = int(lines[-1].strip())  # Extract max weight\n",
    "    return weights_and_values, max_weight\n",
    "\n",
    "\n",
    "def generate_random_solution(n, max_weight, items) -> list[int]:\n",
    "    weight = max_weight + 1\n",
    "    solution = []\n",
    "    while weight > max_weight:\n",
    "        solution = [random.randint(0, 1) for _ in range(n)]\n",
    "        weight = sum(solution[i] * items[i][0] for i in range(n))\n",
    "    return solution\n",
    "\n",
    "def calculate_weight(solution: list[int], items: list[tuple[int, int]]) -> int:\n",
    "    return sum(solution[i] * items[i][0] for i in range(len(items)))\n",
    "\n",
    "def calculate_value(solution: list[int], items: list[tuple[int, int]]) -> int:\n",
    "    return sum(solution[i] * items[i][1] for i in range(len(items)))\n",
    "\n",
    "\n",
    "\n",
    "\n"
   ],
   "outputs": [],
   "execution_count": 13
  },
  {
   "metadata": {},
   "cell_type": "markdown",
   "source": "",
   "id": "4d214851cf73d860"
  },
  {
   "metadata": {
    "ExecuteTime": {
     "end_time": "2025-03-28T07:19:57.826937Z",
     "start_time": "2025-03-28T07:19:57.813005Z"
    }
   },
   "cell_type": "code",
   "source": [
    "def generate_crossover(candidate1, candidate2):\n",
    "    if len(candidate1) != len(candidate2):\n",
    "        raise ValueError(\"Candidates must be of the same length\")\n",
    "\n",
    "    length = len(candidate1)\n",
    "    mask = random.sample(range(length), length // 2)\n",
    "\n",
    "    child = [None] * length\n",
    "    for i in mask:\n",
    "        child[i] = candidate1[i]\n",
    "\n",
    "    for i in range(length):\n",
    "        if child[i] is None:\n",
    "            child[i] = candidate2[i]\n",
    "\n",
    "    return child\n",
    "\n",
    "def mutate(candidate, mutation_rate=0.05):\n",
    "    for i in range(len(candidate)):\n",
    "        if random.random() < mutation_rate:\n",
    "            candidate[i] = 1 - candidate[i]\n",
    "    return candidate\n",
    "\n",
    "def evaluate_solution(solution, items, max_weight):\n",
    "    total_weight = sum(solution[i] * items[i][0] for i in range(len(items)))\n",
    "    if total_weight > max_weight:\n",
    "        return 0\n",
    "    return sum(solution[i] * items[i][1] for i in range(len(items)))\n",
    "\n",
    "def generate_next_generation(candidates, items, max_weight, mutation_rate=0.1):\n",
    "    next_generation = []\n",
    "    candidates.sort(key=lambda c: evaluate_solution(c, items, max_weight), reverse=True)\n",
    "    while len(next_generation) < len(candidates):\n",
    "        # pick random candidates from top 50%\n",
    "        candidate1, candidate2 = random.choices(candidates[:len(candidates)//2], k=2)\n",
    "        child = generate_crossover(candidate1, candidate2)\n",
    "        child = mutate(child, mutation_rate)\n",
    "        next_generation.append(child)\n",
    "    return next_generation"
   ],
   "id": "358e86125007d709",
   "outputs": [],
   "execution_count": 14
  },
  {
   "metadata": {
    "ExecuteTime": {
     "end_time": "2025-03-28T07:19:57.852482Z",
     "start_time": "2025-03-28T07:19:57.843475Z"
    }
   },
   "cell_type": "code",
   "source": [
    "def genetic_algorithm_knapsack(items, max_weight, population_size=50, generations=100):\n",
    "    population = [[random.randint(0, 1) for _ in range(len(items))] for _ in range(population_size)]\n",
    "    best_solution = []\n",
    "    best_value = math.inf\n",
    "    for _ in range(generations):\n",
    "        population = generate_next_generation(population, items, max_weight)\n",
    "        best_solution = max(population, key=lambda c: evaluate_solution(c, items, max_weight))\n",
    "        best_value = evaluate_solution(best_solution, items, max_weight)\n",
    "\n",
    "    return best_solution, best_value\n"
   ],
   "id": "696d96812480bcbb",
   "outputs": [],
   "execution_count": 15
  },
  {
   "metadata": {
    "ExecuteTime": {
     "end_time": "2025-03-28T07:20:13.859213Z",
     "start_time": "2025-03-28T07:19:57.868901Z"
    }
   },
   "cell_type": "code",
   "source": [
    "items200, max_weight200 = load_data(\"rucsac-200.txt\")\n",
    "items20, max_weight20 = load_data(\"knapsack-20.txt\")\n",
    "\n",
    "\n",
    "solution1, value1 = genetic_algorithm_knapsack(items200, max_weight200, 500, 10)\n",
    "solution2, value2 = genetic_algorithm_knapsack(items200, max_weight200, 2000, 50)\n",
    "solution3, value3 = genetic_algorithm_knapsack(items20, max_weight20, 150, 5)\n",
    "solution4, value4 = genetic_algorithm_knapsack(items20, max_weight20, 150, 10)\n",
    "\n",
    "print(\"Best Solution knapsack 200 for 100 iterations:\", solution1, \"Best Value:\", value1)\n",
    "print(\"Best Solution knapsack 200 for 1000 iterations:\", solution2, \"Best Value:\", value2)\n",
    "print(\"Best Solution knapsac 20 for 100 iterations:\", solution3, \"Best Value:\", value3)"
   ],
   "id": "3e60b4267cf0f46b",
   "outputs": [
    {
     "name": "stdout",
     "output_type": "stream",
     "text": [
      "Best Solution knapsack 200 for 100 iterations: [1, 1, 0, 0, 0, 0, 1, 1, 0, 1, 1, 1, 1, 1, 1, 1, 0, 0, 0, 0, 0, 1, 0, 1, 1, 0, 0, 0, 0, 1, 1, 1, 0, 0, 1, 1, 1, 0, 1, 0, 0, 1, 0, 0, 1, 1, 0, 0, 1, 0, 1, 0, 0, 1, 0, 1, 0, 1, 1, 0, 0, 0, 1, 0, 1, 1, 1, 0, 1, 0, 1, 0, 1, 1, 0, 0, 0, 1, 1, 1, 0, 1, 1, 0, 1, 1, 1, 0, 1, 0, 0, 1, 0, 1, 1, 0, 0, 1, 0, 0, 1, 0, 0, 0, 0, 0, 0, 1, 1, 1, 1, 0, 1, 0, 1, 1, 0, 1, 1, 1, 0, 1, 0, 1, 0, 1, 0, 0, 0, 1, 0, 1, 1, 1, 0, 1, 0, 0, 0, 1, 0, 0, 1, 1, 1, 1, 1, 1, 1, 1, 0, 1, 1, 1, 1, 1, 0, 0, 1, 0, 1, 1, 0, 1, 0, 0, 0, 0, 1, 1, 0, 1, 0, 0, 0, 1, 1, 1, 0, 0, 0, 0, 1, 0, 0, 1, 1, 0, 1, 0, 0, 0, 0, 1, 0, 0, 1, 1, 1, 1] Best Value: 132649\n",
      "Best Solution knapsack 200 for 1000 iterations: [1, 1, 0, 0, 1, 1, 0, 1, 1, 0, 1, 0, 0, 0, 1, 1, 1, 1, 0, 0, 1, 1, 0, 1, 1, 1, 0, 1, 0, 1, 0, 1, 0, 0, 1, 0, 0, 0, 1, 1, 1, 1, 0, 1, 0, 1, 1, 0, 1, 1, 0, 1, 0, 1, 1, 0, 1, 1, 0, 1, 0, 0, 1, 0, 0, 0, 1, 1, 1, 1, 0, 1, 0, 1, 1, 0, 0, 0, 0, 1, 1, 0, 1, 1, 1, 1, 0, 1, 0, 1, 1, 0, 1, 1, 0, 0, 0, 1, 0, 0, 0, 0, 0, 0, 0, 1, 0, 0, 1, 1, 1, 1, 1, 0, 1, 1, 1, 0, 1, 0, 0, 0, 1, 0, 0, 0, 0, 1, 0, 1, 0, 1, 1, 1, 1, 0, 1, 1, 0, 1, 1, 0, 1, 1, 0, 1, 1, 0, 1, 0, 0, 1, 0, 1, 1, 1, 0, 0, 0, 0, 0, 1, 1, 1, 1, 0, 1, 1, 0, 0, 1, 1, 1, 1, 0, 1, 1, 1, 1, 1, 0, 0, 1, 0, 0, 0, 1, 0, 1, 1, 0, 0, 0, 0, 1, 1, 1, 0, 1, 1] Best Value: 132686\n",
      "Best Solution knapsac 20 for 100 iterations: [1, 1, 1, 0, 1, 0, 0, 1, 0, 0, 0, 0, 0, 0, 1, 1, 0, 1, 1, 1] Best Value: 627\n"
     ]
    }
   ],
   "execution_count": 16
  }
 ],
 "metadata": {
  "kernelspec": {
   "display_name": "Python 3",
   "language": "python",
   "name": "python3"
  },
  "language_info": {
   "codemirror_mode": {
    "name": "ipython",
    "version": 2
   },
   "file_extension": ".py",
   "mimetype": "text/x-python",
   "name": "python",
   "nbconvert_exporter": "python",
   "pygments_lexer": "ipython2",
   "version": "2.7.6"
  }
 },
 "nbformat": 4,
 "nbformat_minor": 5
}
